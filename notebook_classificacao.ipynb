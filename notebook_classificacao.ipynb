{
 "cells": [
  {
   "cell_type": "code",
   "execution_count": 37,
   "metadata": {},
   "outputs": [
    {
     "data": {
      "text/html": [
       "<div>\n",
       "<style scoped>\n",
       "    .dataframe tbody tr th:only-of-type {\n",
       "        vertical-align: middle;\n",
       "    }\n",
       "\n",
       "    .dataframe tbody tr th {\n",
       "        vertical-align: top;\n",
       "    }\n",
       "\n",
       "    .dataframe thead th {\n",
       "        text-align: right;\n",
       "    }\n",
       "</style>\n",
       "<table border=\"1\" class=\"dataframe\">\n",
       "  <thead>\n",
       "    <tr style=\"text-align: right;\">\n",
       "      <th></th>\n",
       "      <th>sepal_length</th>\n",
       "      <th>sepal_width</th>\n",
       "      <th>petal_length</th>\n",
       "      <th>petal_width</th>\n",
       "    </tr>\n",
       "  </thead>\n",
       "  <tbody>\n",
       "    <tr>\n",
       "      <th>0</th>\n",
       "      <td>5.1</td>\n",
       "      <td>3.5</td>\n",
       "      <td>1.4</td>\n",
       "      <td>0.2</td>\n",
       "    </tr>\n",
       "    <tr>\n",
       "      <th>1</th>\n",
       "      <td>4.9</td>\n",
       "      <td>3.0</td>\n",
       "      <td>1.4</td>\n",
       "      <td>0.2</td>\n",
       "    </tr>\n",
       "    <tr>\n",
       "      <th>2</th>\n",
       "      <td>4.7</td>\n",
       "      <td>3.2</td>\n",
       "      <td>1.3</td>\n",
       "      <td>0.2</td>\n",
       "    </tr>\n",
       "    <tr>\n",
       "      <th>3</th>\n",
       "      <td>4.6</td>\n",
       "      <td>3.1</td>\n",
       "      <td>1.5</td>\n",
       "      <td>0.2</td>\n",
       "    </tr>\n",
       "    <tr>\n",
       "      <th>4</th>\n",
       "      <td>5.0</td>\n",
       "      <td>3.6</td>\n",
       "      <td>1.4</td>\n",
       "      <td>0.2</td>\n",
       "    </tr>\n",
       "  </tbody>\n",
       "</table>\n",
       "</div>"
      ],
      "text/plain": [
       "   sepal_length  sepal_width  petal_length  petal_width\n",
       "0           5.1          3.5           1.4          0.2\n",
       "1           4.9          3.0           1.4          0.2\n",
       "2           4.7          3.2           1.3          0.2\n",
       "3           4.6          3.1           1.5          0.2\n",
       "4           5.0          3.6           1.4          0.2"
      ]
     },
     "execution_count": 37,
     "metadata": {},
     "output_type": "execute_result"
    }
   ],
   "source": [
    "import seaborn as sns\n",
    "import pandas as pd\n",
    "from sklearn.cluster import KMeans\n",
    "import numpy as np\n",
    "import matplotlib.pyplot as plt\n",
    "\n",
    "# Selecionando os dados do iris\n",
    "df = sns.load_dataset(\"iris\")\n",
    "\n",
    "# Nome das espécies de flores\n",
    "list(df['species'].unique())\n",
    "\n",
    "Y = df['species']\n",
    "\n",
    "X = df.drop(columns='species').copy()\n",
    "\n",
    "X.head()\n"
   ]
  },
  {
   "cell_type": "code",
   "execution_count": 38,
   "metadata": {},
   "outputs": [],
   "source": [
    "from email.mime import base\n",
    "from os import access\n",
    "from random import shuffle\n",
    "from tabnanny import verbose\n",
    "import numpy as np\n",
    "import pandas as pd\n",
    "\n",
    "#%matplotlib inline\n",
    "import matplotlib.pyplot as plt\n",
    "import seaborn as sns\n",
    "\n",
    "sns.set_style('whitegrid', {\"axes.grid\": False})\n",
    "sns.set_context('notebook')\n",
    "np.random.seed(42)\n"
   ]
  },
  {
   "cell_type": "markdown",
   "metadata": {},
   "source": [
    "NAyve Bayes"
   ]
  },
  {
   "cell_type": "code",
   "execution_count": 72,
   "metadata": {},
   "outputs": [
    {
     "name": "stdout",
     "output_type": "stream",
     "text": [
      "['setosa' 'setosa' 'setosa' 'setosa' 'setosa' 'setosa' 'setosa' 'setosa'\n",
      " 'setosa' 'setosa' 'setosa' 'setosa' 'setosa' 'setosa' 'setosa' 'setosa'\n",
      " 'setosa' 'setosa' 'setosa' 'setosa' 'setosa' 'setosa' 'setosa' 'setosa'\n",
      " 'setosa' 'setosa' 'setosa' 'setosa' 'setosa' 'setosa' 'setosa' 'setosa'\n",
      " 'setosa' 'setosa' 'setosa' 'setosa' 'setosa' 'setosa' 'setosa' 'setosa'\n",
      " 'setosa' 'versicolor' 'setosa' 'setosa' 'setosa' 'setosa' 'setosa'\n",
      " 'setosa' 'setosa' 'setosa' 'virginica' 'virginica' 'virginica'\n",
      " 'versicolor' 'versicolor' 'versicolor' 'virginica' 'versicolor'\n",
      " 'virginica' 'versicolor' 'versicolor' 'versicolor' 'versicolor'\n",
      " 'versicolor' 'versicolor' 'virginica' 'versicolor' 'versicolor'\n",
      " 'versicolor' 'versicolor' 'versicolor' 'versicolor' 'versicolor'\n",
      " 'versicolor' 'virginica' 'virginica' 'virginica' 'virginica' 'versicolor'\n",
      " 'versicolor' 'versicolor' 'versicolor' 'versicolor' 'versicolor'\n",
      " 'versicolor' 'virginica' 'virginica' 'versicolor' 'versicolor'\n",
      " 'versicolor' 'versicolor' 'versicolor' 'versicolor' 'versicolor'\n",
      " 'versicolor' 'versicolor' 'versicolor' 'versicolor' 'versicolor'\n",
      " 'versicolor' 'virginica' 'versicolor' 'virginica' 'versicolor'\n",
      " 'virginica' 'virginica' 'versicolor' 'virginica' 'versicolor' 'virginica'\n",
      " 'virginica' 'versicolor' 'virginica' 'versicolor' 'versicolor'\n",
      " 'virginica' 'virginica' 'virginica' 'virginica' 'versicolor' 'virginica'\n",
      " 'versicolor' 'virginica' 'versicolor' 'virginica' 'virginica'\n",
      " 'versicolor' 'versicolor' 'versicolor' 'virginica' 'virginica'\n",
      " 'virginica' 'versicolor' 'versicolor' 'versicolor' 'virginica'\n",
      " 'virginica' 'virginica' 'versicolor' 'virginica' 'virginica' 'virginica'\n",
      " 'versicolor' 'virginica' 'virginica' 'virginica' 'versicolor' 'virginica'\n",
      " 'virginica' 'versicolor']\n",
      "[[9.97461064e-01 2.31354279e-03 2.25393530e-04]\n",
      " [8.57675052e-01 1.42101839e-01 2.23109524e-04]\n",
      " [9.87408503e-01 1.25599354e-02 3.15619538e-05]\n",
      " [9.76364959e-01 2.36144927e-02 2.05482912e-05]\n",
      " [9.99503307e-01 4.42986412e-04 5.37063802e-05]\n",
      " [9.99676046e-01 5.30591081e-05 2.70894956e-04]\n",
      " [9.98867410e-01 1.12564193e-03 6.94807275e-06]\n",
      " [9.95116478e-01 4.72833120e-03 1.55190889e-04]\n",
      " [9.27019909e-01 7.29723187e-02 7.77277306e-06]\n",
      " [9.36169805e-01 6.36382547e-02 1.91940232e-04]\n",
      " [9.97995512e-01 8.41765651e-04 1.16272244e-03]\n",
      " [9.97797499e-01 2.17200248e-03 3.04984786e-05]\n",
      " [8.97677143e-01 1.02217529e-01 1.05328740e-04]\n",
      " [9.73123987e-01 2.68722800e-02 3.73285990e-06]\n",
      " [9.91168766e-01 1.34091103e-04 8.69714331e-03]\n",
      " [9.99946252e-01 9.78938005e-08 5.36501603e-05]\n",
      " [9.99676046e-01 5.30591081e-05 2.70894956e-04]\n",
      " [9.97461064e-01 2.31354279e-03 2.25393530e-04]\n",
      " [9.85085771e-01 1.26049429e-03 1.36537344e-02]\n",
      " [9.99916786e-01 4.91816539e-05 3.40323534e-05]\n",
      " [9.62441242e-01 3.14421385e-02 6.11661961e-03]\n",
      " [9.99742021e-01 1.89698405e-04 6.82806619e-05]\n",
      " [9.99892500e-01 1.05103682e-04 2.39639921e-06]\n",
      " [9.78105978e-01 2.13312964e-02 5.62726029e-04]\n",
      " [9.97797499e-01 2.17200248e-03 3.04984786e-05]\n",
      " [8.00542472e-01 1.98978272e-01 4.79256091e-04]\n",
      " [9.95116478e-01 4.72833120e-03 1.55190889e-04]\n",
      " [9.95758810e-01 3.68320074e-03 5.57989755e-04]\n",
      " [9.87513627e-01 1.15740064e-02 9.12366286e-04]\n",
      " [9.87408503e-01 1.25599354e-02 3.15619538e-05]\n",
      " [9.55282003e-01 4.46296536e-02 8.83434538e-05]\n",
      " [9.62441242e-01 3.14421385e-02 6.11661961e-03]\n",
      " [9.99992027e-01 9.21683717e-07 7.05100626e-06]\n",
      " [9.99947513e-01 8.95312884e-07 5.15912029e-05]\n",
      " [9.36169805e-01 6.36382547e-02 1.91940232e-04]\n",
      " [9.61971315e-01 3.76936155e-02 3.35069552e-04]\n",
      " [9.72088332e-01 1.75178893e-02 1.03937785e-02]\n",
      " [9.99681318e-01 2.95340761e-04 2.33407761e-05]\n",
      " [9.66656896e-01 3.33362830e-02 6.82052593e-06]\n",
      " [9.92337224e-01 7.29306789e-03 3.69707992e-04]\n",
      " [9.98408386e-01 1.49717582e-03 9.44379302e-05]\n",
      " [2.16677165e-01 7.83320365e-01 2.46914598e-06]\n",
      " [9.94588713e-01 5.40720388e-03 4.08299282e-06]\n",
      " [9.98408386e-01 1.49717582e-03 9.44379302e-05]\n",
      " [9.99916786e-01 4.91816539e-05 3.40323534e-05]\n",
      " [8.97677143e-01 1.02217529e-01 1.05328740e-04]\n",
      " [9.99916786e-01 4.91816539e-05 3.40323534e-05]\n",
      " [9.90777142e-01 9.20746550e-03 1.53926371e-05]\n",
      " [9.99067335e-01 4.97075586e-04 4.35589104e-04]\n",
      " [9.85862076e-01 1.39005024e-02 2.37421475e-04]\n",
      " [6.45596553e-08 5.16665611e-03 9.94833279e-01]\n",
      " [4.27399700e-04 1.21224011e-01 8.78348589e-01]\n",
      " [2.28670927e-07 1.72291699e-02 9.82770601e-01]\n",
      " [4.09433080e-03 9.95671304e-01 2.34364845e-04]\n",
      " [2.52169264e-05 5.25237509e-01 4.74737274e-01]\n",
      " [1.97741959e-02 9.64993033e-01 1.52327716e-02]\n",
      " [2.43089459e-03 1.07812181e-01 8.89756924e-01]\n",
      " [1.02459732e-01 8.97512165e-01 2.81034152e-05]\n",
      " [1.05716676e-05 2.51987226e-01 7.48002203e-01]\n",
      " [1.42987772e-01 8.56313009e-01 6.99218081e-04]\n",
      " [1.96659424e-02 9.80330587e-01 3.47055037e-06]\n",
      " [2.23895821e-02 8.47296704e-01 1.30313714e-01]\n",
      " [1.10356300e-04 9.98524863e-01 1.36478084e-03]\n",
      " [2.21928512e-03 8.19674006e-01 1.78106709e-01]\n",
      " [7.39737272e-02 9.08897134e-01 1.71291388e-02]\n",
      " [4.66022160e-06 5.03597277e-02 9.49635612e-01]\n",
      " [1.52028459e-01 8.18347691e-01 2.96238503e-02]\n",
      " [5.24535881e-03 9.81685286e-01 1.30693553e-02]\n",
      " [2.42235824e-05 9.96230150e-01 3.74562612e-03]\n",
      " [5.73661764e-03 9.92887269e-01 1.37611364e-03]\n",
      " [9.65974837e-02 5.76288218e-01 3.27114298e-01]\n",
      " [1.13656529e-03 8.97341368e-01 1.01522067e-01]\n",
      " [3.80812451e-05 9.57306167e-01 4.26557516e-02]\n",
      " [1.13656529e-03 8.97341368e-01 1.01522067e-01]\n",
      " [1.20407176e-04 4.94477658e-01 5.05401935e-01]\n",
      " [1.42887960e-05 1.49212909e-01 8.50772802e-01]\n",
      " [5.33168502e-07 1.78182913e-01 8.21816554e-01]\n",
      " [3.51020820e-06 9.24534175e-02 9.07543072e-01]\n",
      " [4.99920513e-03 8.79398179e-01 1.15602616e-01]\n",
      " [5.40706358e-03 9.90353465e-01 4.23947189e-03]\n",
      " [6.28956654e-03 9.93261643e-01 4.48790873e-04]\n",
      " [6.28956654e-03 9.93261643e-01 4.48790873e-04]\n",
      " [5.24535881e-03 9.81685286e-01 1.30693553e-02]\n",
      " [1.28105504e-03 9.64348138e-01 3.43708074e-02]\n",
      " [3.65854103e-01 6.25220323e-01 8.92557364e-03]\n",
      " [1.32584164e-01 1.95328084e-01 6.72087752e-01]\n",
      " [4.66022160e-06 5.03597277e-02 9.49635612e-01]\n",
      " [1.55226049e-05 9.88037829e-01 1.19466480e-02]\n",
      " [1.52028459e-01 8.18347691e-01 2.96238503e-02]\n",
      " [1.02959162e-02 9.88846336e-01 8.57747639e-04]\n",
      " [1.79236689e-02 9.80443467e-01 1.63286450e-03]\n",
      " [4.34133429e-03 7.02468777e-01 2.93189889e-01]\n",
      " [2.82239344e-03 9.90311503e-01 6.86610350e-03]\n",
      " [4.70890420e-02 9.52887113e-01 2.38451417e-05]\n",
      " [1.85706412e-02 9.76440052e-01 4.98930635e-03]\n",
      " [8.63264070e-02 8.63394960e-01 5.02786332e-02]\n",
      " [4.07808905e-02 9.30993852e-01 2.82252579e-02]\n",
      " [9.17706346e-04 7.33749636e-01 2.65332658e-01]\n",
      " [7.48323269e-02 9.25035920e-01 1.31753314e-04]\n",
      " [1.97741959e-02 9.64993033e-01 1.52327716e-02]\n",
      " [2.43089459e-03 1.07812181e-01 8.89756924e-01]\n",
      " [5.24535881e-03 9.81685286e-01 1.30693553e-02]\n",
      " [7.40843342e-09 1.07191475e-02 9.89280845e-01]\n",
      " [3.48818899e-04 6.22490772e-01 3.77160409e-01]\n",
      " [5.40435853e-05 2.30700339e-01 7.69245618e-01]\n",
      " [1.31190740e-12 5.64646044e-04 9.99435354e-01]\n",
      " [1.58037041e-01 8.41912349e-01 5.06099614e-05]\n",
      " [2.20190700e-10 6.47462860e-03 9.93525371e-01]\n",
      " [8.58247844e-07 7.26831739e-01 2.73167403e-01]\n",
      " [1.59398007e-08 1.20849318e-04 9.99879135e-01]\n",
      " [1.11663392e-04 7.51448626e-02 9.24743474e-01]\n",
      " [4.45526995e-05 7.82978398e-01 2.16977049e-01]\n",
      " [8.10451478e-07 5.55097264e-02 9.44489463e-01]\n",
      " [3.09307521e-03 9.94689177e-01 2.21774731e-03]\n",
      " [1.03223612e-02 9.65005792e-01 2.46718469e-02]\n",
      " [4.27399700e-04 1.21224011e-01 8.78348589e-01]\n",
      " [5.40435853e-05 2.30700339e-01 7.69245618e-01]\n",
      " [8.74380619e-12 1.64846757e-06 9.99998352e-01]\n",
      " [1.53929040e-13 4.15396046e-03 9.95846040e-01]\n",
      " [1.10356300e-04 9.98524863e-01 1.36478084e-03]\n",
      " [3.12349013e-07 9.04255638e-03 9.90957131e-01]\n",
      " [3.63340052e-02 9.54301805e-01 9.36418937e-03]\n",
      " [1.57147527e-13 1.12991544e-03 9.98870085e-01]\n",
      " [1.12455800e-04 8.58808278e-01 1.41079266e-01]\n",
      " [9.47864730e-06 1.41621606e-02 9.85828361e-01]\n",
      " [2.45521133e-09 1.64569633e-03 9.98354301e-01]\n",
      " [4.92138867e-04 8.41137640e-01 1.58370222e-01]\n",
      " [4.34133429e-03 7.02468777e-01 2.93189889e-01]\n",
      " [7.43412748e-05 6.52618750e-01 3.47306908e-01]\n",
      " [1.42219660e-09 6.04694559e-03 9.93953053e-01]\n",
      " [3.50646070e-11 6.88506354e-03 9.93114936e-01]\n",
      " [1.96437234e-13 4.75809599e-07 9.99999524e-01]\n",
      " [7.43412748e-05 6.52618750e-01 3.47306908e-01]\n",
      " [1.99234555e-04 7.60033638e-01 2.39767128e-01]\n",
      " [3.27315711e-04 9.69914728e-01 2.97579561e-02]\n",
      " [2.08020290e-13 3.06538191e-04 9.99693462e-01]\n",
      " [3.95302799e-03 5.90814618e-02 9.36965510e-01]\n",
      " [2.83840442e-04 2.09522674e-01 7.90193486e-01]\n",
      " [1.02538048e-02 7.90215216e-01 1.99530979e-01]\n",
      " [2.28670927e-07 1.72291699e-02 9.82770601e-01]\n",
      " [4.66022160e-06 5.03597277e-02 9.49635612e-01]\n",
      " [2.28670927e-07 1.72291699e-02 9.82770601e-01]\n",
      " [5.24535881e-03 9.81685286e-01 1.30693553e-02]\n",
      " [1.45170456e-06 1.56748975e-02 9.84323651e-01]\n",
      " [9.47864730e-06 1.41621606e-02 9.85828361e-01]\n",
      " [3.51020820e-06 9.24534175e-02 9.07543072e-01]\n",
      " [3.80812451e-05 9.57306167e-01 4.26557516e-02]\n",
      " [5.40435853e-05 2.30700339e-01 7.69245618e-01]\n",
      " [1.40693262e-02 9.42119286e-02 8.91718745e-01]\n",
      " [2.23895821e-02 8.47296704e-01 1.30313714e-01]]\n"
     ]
    }
   ],
   "source": [
    "from sklearn.naive_bayes import GaussianNB, MultinomialNB, BernoulliNB\n",
    "    \n",
    "X = df[['sepal_length','sepal_width']]\n",
    "\n",
    "model = GaussianNB()#vale um teste com o L2 tambem Ridge e Lasso\n",
    "model.fit(X,Y)\n",
    "\n",
    "h= .005\n",
    "\n",
    "Y = model.predict(X)\n",
    "print(Y)\n",
    "print(model.predict_proba(X))"
   ]
  },
  {
   "cell_type": "code",
   "execution_count": 75,
   "metadata": {},
   "outputs": [
    {
     "data": {
      "image/png": "[encoded data removed]",
      "text/plain": [
       "<Figure size 432x288 with 1 Axes>"
      ]
     },
     "metadata": {},
     "output_type": "display_data"
    }
   ],
   "source": [
    "baseDados = df\n",
    "\n",
    "plt.scatter(baseDados.sepal_length[Y == 'setosa'], baseDados.sepal_width[Y == 'setosa'], c = 'darkgreen', marker=\"_\")\n",
    "plt.scatter(baseDados.sepal_length[Y == 'virginica'], baseDados.sepal_width[Y == 'virginica'], c = 'black', marker=\"+\")\n",
    "plt.scatter(baseDados.sepal_length[Y == 'versicolor'], baseDados.sepal_width[Y == 'versicolor'], c = 'blue', marker=\"*\");"
   ]
  },
  {
   "cell_type": "markdown",
   "metadata": {},
   "source": [
    "knn"
   ]
  },
  {
   "cell_type": "code",
   "execution_count": null,
   "metadata": {},
   "outputs": [],
   "source": [
    "from sklearn.neighbors import KNeighborsClassifier\n",
    "from sklearn.neighbors import RadiusNeighborsClassifier\n",
    "\n",
    "X = df[['sepal_length','sepal_width']]\n",
    "\n",
    "h = .01\n",
    "\n",
    "model = KNeighborsClassifier(n_neighbors = 3)#isso aqui muda bastante viu\n",
    "model.fit(X,Y)\n",
    "\n",
    "Y = model.predict(X)\n",
    "print(Y)\n",
    "\n",
    "\n",
    "#plt.scatter([5.5],[3.5], s = 100, c='darkgreen' if model.predict([[5.5,3.5]]) == 'setosa' else 'black')\n",
    "#plt.scatter([1.5],[3.0], s = 100, c='darkgreen' if model.predict([[1.5,3.0]]) == 'setosa' else 'black')\n",
    "#plt.scatter([4.5],[3.0], s = 100, c='darkgreen' if model.predict([[4.5,3.0]]) == 'setosa' else 'black');\n",
    "\n"
   ]
  },
  {
   "cell_type": "code",
   "execution_count": 77,
   "metadata": {},
   "outputs": [
    {
     "data": {
      "image/png": "[encoded data removed]",
      "text/plain": [
       "<Figure size 432x288 with 1 Axes>"
      ]
     },
     "metadata": {},
     "output_type": "display_data"
    }
   ],
   "source": [
    "baseDados = df\n",
    "\n",
    "plt.scatter(baseDados.sepal_length[Y == 'setosa'], baseDados.sepal_width[Y == 'setosa'], c = 'darkgreen', marker=\"_\")\n",
    "plt.scatter(baseDados.sepal_length[Y == 'virginica'], baseDados.sepal_width[Y == 'virginica'], c = 'black', marker=\"+\")\n",
    "plt.scatter(baseDados.sepal_length[Y == 'versicolor'], baseDados.sepal_width[Y == 'versicolor'], c = 'blue', marker=\"*\");"
   ]
  },
  {
   "cell_type": "markdown",
   "metadata": {},
   "source": [
    "Regressão logistica"
   ]
  },
  {
   "cell_type": "code",
   "execution_count": 80,
   "metadata": {},
   "outputs": [
    {
     "name": "stderr",
     "output_type": "stream",
     "text": [
      "C:\\Users\\lucia\\AppData\\Local\\Programs\\Python\\Python310\\lib\\site-packages\\sklearn\\svm\\_base.py:1206: ConvergenceWarning: Liblinear failed to converge, increase the number of iterations.\n",
      "  warnings.warn(\n"
     ]
    }
   ],
   "source": [
    "from sklearn.linear_model import LogisticRegression\n",
    "from sklearn.preprocessing import PolynomialFeatures\n",
    "\n",
    "\n",
    "X = df[['sepal_length','sepal_width']]\n",
    "grau = 10\n",
    "#X = PolinomialFeatures(degree = grau).fit_transform(baseDados[baseDados.columns[:-1]])\n",
    "\n",
    "model = LogisticRegression(solver='liblinear', penalty = 'l1', C=10000 )#vale um teste com o L2 tambem Ridge e Lasso\n",
    "model.fit(X,Y)\n",
    "\n",
    "h= .005\n",
    "\n",
    "Y = model.predict(X)\n",
    "\n",
    "#modo polinomial\n",
    "#z = model.predict(PolinomialFeatures(degree = grau).fit_transform(np.c_[xx.ravel(),yy.ravel()]))"
   ]
  },
  {
   "cell_type": "code",
   "execution_count": 85,
   "metadata": {},
   "outputs": [
    {
     "data": {
      "image/png": "[encoded data removed]",
      "text/plain": [
       "<Figure size 432x288 with 1 Axes>"
      ]
     },
     "metadata": {},
     "output_type": "display_data"
    }
   ],
   "source": [
    "baseDados = df\n",
    "\n",
    "plt.scatter(baseDados.sepal_length[Y == 'setosa'], baseDados.sepal_width[Y == 'setosa'], c = 'darkgreen', marker=\"_\")\n",
    "plt.scatter(baseDados.sepal_length[Y == 'virginica'], baseDados.sepal_width[Y == 'virginica'], c = 'black', marker=\"+\")\n",
    "plt.scatter(baseDados.sepal_length[Y == 'versicolor'], baseDados.sepal_width[Y == 'versicolor'], c = 'blue', marker=\"*\");"
   ]
  },
  {
   "cell_type": "markdown",
   "metadata": {},
   "source": [
    "SVM"
   ]
  },
  {
   "cell_type": "code",
   "execution_count": 84,
   "metadata": {},
   "outputs": [],
   "source": [
    "from sklearn.svm import SVC\n",
    "\n",
    "model = SVC(kernel = 'linear', C=1)\n",
    "#polinomial\n",
    "#SVM = SVC(kernel = 'poly', C=1)   \n",
    "#sigmoidal\n",
    "#SVM = SVC(kernel = 'sigmoid', C=1)\n",
    "#gaussiano\n",
    "#SVM = SVC(kernel = 'rbf', C=1)\n",
    "\n",
    "model.fit(X,Y)\n",
    "Y = model.predict(X)\n",
    "\n"
   ]
  },
  {
   "cell_type": "markdown",
   "metadata": {},
   "source": [
    "Rede neural"
   ]
  },
  {
   "cell_type": "code",
   "execution_count": null,
   "metadata": {},
   "outputs": [],
   "source": [
    "from sklearn.neural_network import MLPClassifier\n",
    "baseDados =pd.read_csv('data/base_redeNeural.csv')\n",
    "\n",
    "MLP = MLPClassifier(activation = 'relu',\n",
    "                    hidden_layer_sizes = (40,20,10),\n",
    "                    learning_rate = 'constant',\n",
    "                    learning_rate_init = 0.001,\n",
    "                    max_iter = 5000)\n",
    "\n",
    "#X = baseDados[:, baseDados.columns != 'Y']\n",
    "#Y = baseDados.Y\n",
    "\n",
    "MLP.fit(X,Y)\n",
    "\n",
    "Y = MLP.predict(X)\n",
    "\n",
    "h= .02"
   ]
  },
  {
   "cell_type": "markdown",
   "metadata": {},
   "source": [
    "Arvore de decisão"
   ]
  },
  {
   "cell_type": "code",
   "execution_count": 40,
   "metadata": {},
   "outputs": [
    {
     "data": {
      "image/png": "[encoded data removed]",
      "text/plain": [
       "<Figure size 864x360 with 1 Axes>"
      ]
     },
     "metadata": {},
     "output_type": "display_data"
    }
   ],
   "source": [
    "from sklearn.tree import DecisionTreeClassifier\n",
    "#baseDados =pd.read_csv('data/base_tree.csv')\n",
    "\n",
    "DT = DecisionTreeClassifier(criterion = 'entropy', max_depth=2)#maxDepth muda as coisas\n",
    "\n",
    "#X = baseDados[:, baseDados.columns != 'Y']\n",
    "#Y = baseDados.Y\n",
    "\n",
    "DT.fit(X,Y)\n",
    "\n",
    "##same aos outros\n",
    "\n",
    "from sklearn import tree\n",
    "\n",
    "plt.figure(figsize=(12,5))\n",
    "tree.plot_tree(DT,\n",
    "                feature_names = X.columns,\n",
    "                filled = True,\n",
    "                rounded = True,\n",
    "                class_names = True);\n",
    "\n",
    "\n",
    "Y = DT.predict(X)"
   ]
  },
  {
   "cell_type": "code",
   "execution_count": null,
   "metadata": {},
   "outputs": [],
   "source": [
    "\n",
    "from pydotplus import graph_from_dot_data\n",
    "from sklearn.tree import export_graphviz\n",
    "\n",
    "dot_data = export_graphviz(DT, filled=True, rounded=True, class_names=['Setosa', 'Versicolor','Virginica'], \n",
    "                           feature_names=['sepal_length','sepal_width','petal length', 'petal width'], out_file=None)\n",
    "\n",
    "graph = graph_from_dot_data(dot_data)\n",
    "graph.write_png('tree.png')  \n",
    "\n",
    "from IPython.display import Image\n",
    "Image(\"./tree.png\")"
   ]
  },
  {
   "cell_type": "markdown",
   "metadata": {},
   "source": [
    "Random Forest"
   ]
  },
  {
   "cell_type": "code",
   "execution_count": null,
   "metadata": {},
   "outputs": [],
   "source": [
    "from sklearn.ensemble import RandomForestClassifier\n",
    "\n",
    "RF = RandomForestClassifier(criterion = 'entropy', max_depth=2, n_estimators = 10)#maxDepth muda as coisas\n",
    "\n",
    "#X = baseDados[:, baseDados.columns != 'Y']\n",
    "#Y = baseDados.Y\n",
    "\n",
    "RF.fit(X,Y)\n",
    "Y = RF.predict()"
   ]
  },
  {
   "cell_type": "markdown",
   "metadata": {},
   "source": [
    "Gradient Boosting"
   ]
  },
  {
   "cell_type": "code",
   "execution_count": null,
   "metadata": {},
   "outputs": [],
   "source": [
    "from sklearn.ensemble import GradientBoostingClassifier\n",
    "GB = GradientBoostingClassifier(learning_rate = 0.5, max_depth=2, n_estimators = 10)#maxDepth muda as coisas\n",
    "#X = baseDados[:, baseDados.columns != 'Y']\n",
    "#Y = baseDados.Y\n",
    "GB.fit(X,Y)\n",
    "Y = GB.predict()"
   ]
  },
  {
   "cell_type": "markdown",
   "metadata": {},
   "source": []
  },
  {
   "cell_type": "code",
   "execution_count": null,
   "metadata": {},
   "outputs": [],
   "source": [
    "baseDados = df\n",
    "\n",
    "x_min, x_max = baseDados.sepal_length.min() - 1, baseDados.sepal_length.max() + 1\n",
    "y_min, y_max = baseDados.sepal_width.min() - 1, baseDados.sepal_width.max() + 1\n",
    "\n",
    "xx, yy = np.meshgrid(np.arange(x_min,x_max,h),np.arange(y_min,y_max,h))\n",
    "\n",
    "\n",
    "Z = model.predict(np.c_[xx.ravel(),yy.ravel()])\n",
    "#modo polinomial\n",
    "#z = model.predict(PolinomialFeatures(degree = grau).fit_transform(np.c_[xx.ravel(),yy.ravel()]))\n",
    "z = Z.reshape(xx.shape)\n",
    "\n",
    "plt.figure(figsize=(12,8))\n",
    "plt.pcolormesh(xx, yy, Z, cmap= plt.cm.Accent)\n",
    "\n",
    "Y = model.predict(X)\n"
   ]
  },
  {
   "cell_type": "markdown",
   "metadata": {},
   "source": [
    "Implentação com train test split"
   ]
  },
  {
   "cell_type": "code",
   "execution_count": 35,
   "metadata": {},
   "outputs": [],
   "source": [
    "from sklearn.model_selection import train_test_split\n",
    "from sklearn.feature_extraction.text import CountVectorizer\n",
    "from sklearn.linear_model import LogisticRegression\n",
    "from sklearn.model_selection import KFold\n",
    "from sklearn.model_selection import LeaveOneOut\n",
    "from sklearn.model_selection import GridSearchCV\n",
    "import pandas as pd\n",
    "import matplotlib.pyplot as plt\n",
    "import seaborn as sns\n"
   ]
  },
  {
   "cell_type": "code",
   "execution_count": 14,
   "metadata": {},
   "outputs": [
    {
     "data": {
      "text/html": [
       "<div>\n",
       "<style scoped>\n",
       "    .dataframe tbody tr th:only-of-type {\n",
       "        vertical-align: middle;\n",
       "    }\n",
       "\n",
       "    .dataframe tbody tr th {\n",
       "        vertical-align: top;\n",
       "    }\n",
       "\n",
       "    .dataframe thead th {\n",
       "        text-align: right;\n",
       "    }\n",
       "</style>\n",
       "<table border=\"1\" class=\"dataframe\">\n",
       "  <thead>\n",
       "    <tr style=\"text-align: right;\">\n",
       "      <th></th>\n",
       "      <th>text</th>\n",
       "      <th>label</th>\n",
       "    </tr>\n",
       "  </thead>\n",
       "  <tbody>\n",
       "    <tr>\n",
       "      <th>0</th>\n",
       "      <td>I always wrote this series off as being a comp...</td>\n",
       "      <td>0</td>\n",
       "    </tr>\n",
       "    <tr>\n",
       "      <th>1</th>\n",
       "      <td>1st watched 12/7/2002 - 3 out of 10(Dir-Steve ...</td>\n",
       "      <td>0</td>\n",
       "    </tr>\n",
       "    <tr>\n",
       "      <th>2</th>\n",
       "      <td>This movie was so poorly written and directed ...</td>\n",
       "      <td>0</td>\n",
       "    </tr>\n",
       "    <tr>\n",
       "      <th>3</th>\n",
       "      <td>The most interesting thing about Miryang (Secr...</td>\n",
       "      <td>1</td>\n",
       "    </tr>\n",
       "    <tr>\n",
       "      <th>4</th>\n",
       "      <td>when i first read about \"berlin am meer\" i did...</td>\n",
       "      <td>0</td>\n",
       "    </tr>\n",
       "    <tr>\n",
       "      <th>...</th>\n",
       "      <td>...</td>\n",
       "      <td>...</td>\n",
       "    </tr>\n",
       "    <tr>\n",
       "      <th>4995</th>\n",
       "      <td>This is the kind of picture John Lassiter woul...</td>\n",
       "      <td>1</td>\n",
       "    </tr>\n",
       "    <tr>\n",
       "      <th>4996</th>\n",
       "      <td>A MUST SEE! I saw WHIPPED at a press screening...</td>\n",
       "      <td>1</td>\n",
       "    </tr>\n",
       "    <tr>\n",
       "      <th>4997</th>\n",
       "      <td>NBC should be ashamed. I wouldn't allow my chi...</td>\n",
       "      <td>0</td>\n",
       "    </tr>\n",
       "    <tr>\n",
       "      <th>4998</th>\n",
       "      <td>This movie is a clumsy mishmash of various gho...</td>\n",
       "      <td>0</td>\n",
       "    </tr>\n",
       "    <tr>\n",
       "      <th>4999</th>\n",
       "      <td>Formula movie about the illegitimate son of a ...</td>\n",
       "      <td>0</td>\n",
       "    </tr>\n",
       "  </tbody>\n",
       "</table>\n",
       "<p>5000 rows × 2 columns</p>\n",
       "</div>"
      ],
      "text/plain": [
       "                                                   text  label\n",
       "0     I always wrote this series off as being a comp...      0\n",
       "1     1st watched 12/7/2002 - 3 out of 10(Dir-Steve ...      0\n",
       "2     This movie was so poorly written and directed ...      0\n",
       "3     The most interesting thing about Miryang (Secr...      1\n",
       "4     when i first read about \"berlin am meer\" i did...      0\n",
       "...                                                 ...    ...\n",
       "4995  This is the kind of picture John Lassiter woul...      1\n",
       "4996  A MUST SEE! I saw WHIPPED at a press screening...      1\n",
       "4997  NBC should be ashamed. I wouldn't allow my chi...      0\n",
       "4998  This movie is a clumsy mishmash of various gho...      0\n",
       "4999  Formula movie about the illegitimate son of a ...      0\n",
       "\n",
       "[5000 rows x 2 columns]"
      ]
     },
     "execution_count": 14,
     "metadata": {},
     "output_type": "execute_result"
    }
   ],
   "source": [
    "data_imdb = pd.read_csv(\"data/Test.csv\", encoding=\"utf-8\")\n",
    "data_imdb"
   ]
  },
  {
   "cell_type": "code",
   "execution_count": 15,
   "metadata": {},
   "outputs": [],
   "source": [
    "X = data_imdb['text']\n",
    "Y = data_imdb['label']"
   ]
  },
  {
   "cell_type": "code",
   "execution_count": 28,
   "metadata": {},
   "outputs": [],
   "source": [
    "x_train, x_test, y_train, y_test = train_test_split(X, Y, test_size = 0.4, random_state = 42,shuffle = True)\n",
    "\n"
   ]
  },
  {
   "cell_type": "code",
   "execution_count": null,
   "metadata": {},
   "outputs": [],
   "source": [
    "transformer = CountVectorizer(decode_error=\"ignore\",binary=True)\n",
    "x_train = transformer.fit_transform(x_train).toarray()\n",
    "x_test = transformer.transform(x_test).toarray()"
   ]
  },
  {
   "cell_type": "code",
   "execution_count": 21,
   "metadata": {},
   "outputs": [
    {
     "name": "stdout",
     "output_type": "stream",
     "text": [
      "Acuracia do treino: 1.00\n",
      "Acuracia do teste: 0.78\n"
     ]
    }
   ],
   "source": [
    "#exemplo overfitted\n",
    "model = LogisticRegression(solver='liblinear',penalty='l1', C= 1e10)\n",
    "model.fit(x_train,y_train)\n",
    "\n",
    "print('Acuracia do treino: %.2f' % model.score(x_train,y_train))\n",
    "print('Acuracia do teste: %.2f' % model.score(x_test,y_test))"
   ]
  },
  {
   "cell_type": "code",
   "execution_count": 23,
   "metadata": {},
   "outputs": [
    {
     "name": "stdout",
     "output_type": "stream",
     "text": [
      "Acuracia do treino: 0.99\n",
      "Acuracia do teste: 0.86\n"
     ]
    }
   ],
   "source": [
    "#exemplo bom\n",
    "model = LogisticRegression(penalty='l2', C= 0.1)\n",
    "model.fit(x_train,y_train)\n",
    "print('Acuracia do treino: %.2f' % model.score(x_train,y_train))\n",
    "print('Acuracia do teste: %.2f' % model.score(x_test,y_test))"
   ]
  },
  {
   "cell_type": "code",
   "execution_count": 24,
   "metadata": {},
   "outputs": [
    {
     "name": "stdout",
     "output_type": "stream",
     "text": [
      "Acuracia do treino: 0.77\n",
      "Acuracia do teste: 0.73\n"
     ]
    }
   ],
   "source": [
    "#exemplo underfitted\n",
    "model = LogisticRegression(penalty='l2', C= 0.0001)\n",
    "model.fit(x_train,y_train)\n",
    "\n",
    "print('Acuracia do treino: %.2f' % model.score(x_train,y_train))\n",
    "print('Acuracia do teste: %.2f' % model.score(x_test,y_test))"
   ]
  },
  {
   "cell_type": "code",
   "execution_count": 29,
   "metadata": {},
   "outputs": [],
   "source": [
    "#gridsearch\n",
    "\n",
    "gridS = GridSearchCV(estimator = LogisticRegression(solver='liblinear'),\n",
    "                        param_grid={'C':[0.01,0.1,1,10,100], 'penalty' : ['l1','l2']},\n",
    "                        cv= 3,\n",
    "                        n_jobs = -1,\n",
    "                        verbose =1,\n",
    "                        return_train_score = True)\n",
    "\n"
   ]
  },
  {
   "cell_type": "code",
   "execution_count": 30,
   "metadata": {},
   "outputs": [
    {
     "name": "stdout",
     "output_type": "stream",
     "text": [
      "Fitting 3 folds for each of 10 candidates, totalling 30 fits\n"
     ]
    },
    {
     "data": {
      "text/plain": [
       "GridSearchCV(cv=3, estimator=LogisticRegression(solver='liblinear'), n_jobs=-1,\n",
       "             param_grid={'C': [0.01, 0.1, 1, 10, 100], 'penalty': ['l1', 'l2']},\n",
       "             return_train_score=True, verbose=1)"
      ]
     },
     "execution_count": 30,
     "metadata": {},
     "output_type": "execute_result"
    }
   ],
   "source": [
    "gridS.fit(x_train,y_train)"
   ]
  },
  {
   "cell_type": "code",
   "execution_count": 31,
   "metadata": {},
   "outputs": [
    {
     "name": "stdout",
     "output_type": "stream",
     "text": [
      "{'C': 0.1, 'penalty': 'l2'}\n"
     ]
    }
   ],
   "source": [
    "results = pd.DataFrame(gridS.cv_results_)\n",
    "results.sort_values(by='mean_test_score', ascending=False).round(3)[['mean_test_score','mean_train_score','param_C','param_penalty']]\n",
    "print(gridS.best_params_)"
   ]
  },
  {
   "cell_type": "code",
   "execution_count": 36,
   "metadata": {},
   "outputs": [
    {
     "name": "stdout",
     "output_type": "stream",
     "text": [
      "[[837 176]\n",
      " [129 858]]\n",
      "Acurácia: 0.85\n",
      "Precision: 0.83\n",
      "Recall: 0.87\n",
      "F1: 0.85\n",
      "AUC: 0.92\n",
      "GINI: 0.85\n"
     ]
    },
    {
     "data": {
      "image/png": "[encoded data removed]",
      "text/plain": [
       "<Figure size 432x360 with 2 Axes>"
      ]
     },
     "metadata": {
      "needs_background": "light"
     },
     "output_type": "display_data"
    },
    {
     "data": {
      "image/png": "[encoded data removed]",
      "text/plain": [
       "<Figure size 864x576 with 1 Axes>"
      ]
     },
     "metadata": {
      "needs_background": "light"
     },
     "output_type": "display_data"
    }
   ],
   "source": [
    "from sklearn.metrics import confusion_matrix, accuracy_score, precision_score, recall_score, f1_score, roc_auc_score, roc_curve\n",
    "\n",
    "gini_score = lambda y_true,y_score: 2*roc_auc_score(y_true,y_score)-1\n",
    "\n",
    "\n",
    "model = LogisticRegression(C=0.1,penalty='l2')\n",
    "model.fit(x_train,y_train)\n",
    "\n",
    "pred = model.predict(x_test)\n",
    "score = model.predict_proba(x_test)[:,1]\n",
    "\n",
    "print(confusion_matrix(y_test,pred))\n",
    "\n",
    "df_cm = pd.DataFrame(confusion_matrix(y_test,pred),\n",
    "                        index = [i for i in ['0','1']],\n",
    "                        columns = [i for i in ['0','1']])\n",
    "plt.figure(figsize=(6,5))\n",
    "sns.heatmap(df_cm,annot=True,annot_kws={'size':12},fmt='d', cmap=plt.cm.Blues)\n",
    "plt.xlabel('REAl')\n",
    "plt.ylabel('PREDITO');\n",
    "\n",
    "print('Acurácia: %.2f' % accuracy_score(y_test,pred))\n",
    "print('Precision: %.2f' % precision_score(y_test,pred))\n",
    "print('Recall: %.2f' % recall_score(y_test,pred))\n",
    "print('F1: %.2f' % f1_score(y_test,pred))\n",
    "print('AUC: %.2f' % roc_auc_score(y_test,score))\n",
    "print('GINI: %.2f' % gini_score(y_test,score))\n",
    "\n",
    "x,y,_ = roc_curve(y_test,score)\n",
    "plt.figure(figsize=(12,8))\n",
    "plt.plot([0]+x.tolist()+[1],[0]+y.tolist()+[1])\n",
    "plt.plot([0,1],[0,1]);"
   ]
  }
 ],
 "metadata": {
  "interpreter": {
   "hash": "bd588c63303b6a156a60e8f7d188b1ed9121ace3cb12b0ceca4f8e0e79082893"
  },
  "kernelspec": {
   "display_name": "Python 3.10.2 64-bit",
   "language": "python",
   "name": "python3"
  },
  "language_info": {
   "codemirror_mode": {
    "name": "ipython",
    "version": 3
   },
   "file_extension": ".py",
   "mimetype": "text/x-python",
   "name": "python",
   "nbconvert_exporter": "python",
   "pygments_lexer": "ipython3",
   "version": "3.10.2"
  },
  "orig_nbformat": 4
 },
 "nbformat": 4,
 "nbformat_minor": 2
}
